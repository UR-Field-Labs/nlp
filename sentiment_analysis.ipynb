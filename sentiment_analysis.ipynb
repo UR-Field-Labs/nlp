{
  "nbformat": 4,
  "nbformat_minor": 0,
  "metadata": {
    "colab": {
      "provenance": [],
      "include_colab_link": true
    },
    "kernelspec": {
      "name": "python3",
      "display_name": "Python 3"
    },
    "language_info": {
      "name": "python"
    }
  },
  "cells": [
    {
      "cell_type": "markdown",
      "metadata": {
        "id": "view-in-github",
        "colab_type": "text"
      },
      "source": [
        "<a href=\"https://colab.research.google.com/github/UR-Field-Labs/nlp/blob/main/sentiment_analysis.ipynb\" target=\"_parent\"><img src=\"https://colab.research.google.com/assets/colab-badge.svg\" alt=\"Open In Colab\"/></a>"
      ]
    },
    {
      "cell_type": "code",
      "source": [
        "from google.colab import drive\n",
        "drive.mount('/content/drive')"
      ],
      "metadata": {
        "colab": {
          "base_uri": "https://localhost:8080/"
        },
        "id": "0xNSrswTplDY",
        "outputId": "5c5fb235-cf69-4c90-9520-34656c1ebe12"
      },
      "execution_count": null,
      "outputs": [
        {
          "output_type": "stream",
          "name": "stdout",
          "text": [
            "Drive already mounted at /content/drive; to attempt to forcibly remount, call drive.mount(\"/content/drive\", force_remount=True).\n"
          ]
        }
      ]
    },
    {
      "cell_type": "code",
      "source": [
        "import pandas as pd\n",
        "df = pd.read_csv('/content/drive/MyDrive/newspapers/combined_file.csv')\n",
        "df.head()"
      ],
      "metadata": {
        "colab": {
          "base_uri": "https://localhost:8080/",
          "height": 414
        },
        "id": "aIp76ggupo0J",
        "outputId": "28af7315-f540-4347-f678-da61f096f3fe"
      },
      "execution_count": null,
      "outputs": [
        {
          "output_type": "execute_result",
          "data": {
            "text/plain": [
              "  website_name  category                                              title  \\\n",
              "0     Setopati  Politics  Constitutional Council meeting ends without re...   \n",
              "1     Setopati  Politics  Uddhav Thapa appointed Koshi chief minister again   \n",
              "2     Setopati  Politics               House meeting postponed until Monday   \n",
              "3     Setopati  Politics  Pun refutes connection to Dawa Tsering arreste...   \n",
              "4     Setopati  Politics  Maoist Center also opts for live broadcast of ...   \n",
              "\n",
              "  authors published_date                                            content  \\\n",
              "0     NaN     01-08-2023  The Constitutional Council meeting held on Tue...   \n",
              "1     NaN     01-08-2023  Uddhav Thapa of Nepali Congress has become chi...   \n",
              "2     NaN     01-08-2023  The House of Representatives (HoR) meeting has...   \n",
              "3     NaN     31-07-2023  CPN (Maoist Center) Deputy General Secretary B...   \n",
              "4     NaN     31-07-2023  CPN (Maoist Center) has also decided to broadc...   \n",
              "\n",
              "  language                                       url  key  \n",
              "0  English  https://en.setopati.com/political/161488  NaN  \n",
              "1  English  https://en.setopati.com/political/161487  NaN  \n",
              "2  English  https://en.setopati.com/political/161486  NaN  \n",
              "3  English  https://en.setopati.com/political/161480  NaN  \n",
              "4  English  https://en.setopati.com/political/161479  NaN  "
            ],
            "text/html": [
              "\n",
              "  <div id=\"df-4b59ab3d-0341-411d-bc08-72a70a94f73c\" class=\"colab-df-container\">\n",
              "    <div>\n",
              "<style scoped>\n",
              "    .dataframe tbody tr th:only-of-type {\n",
              "        vertical-align: middle;\n",
              "    }\n",
              "\n",
              "    .dataframe tbody tr th {\n",
              "        vertical-align: top;\n",
              "    }\n",
              "\n",
              "    .dataframe thead th {\n",
              "        text-align: right;\n",
              "    }\n",
              "</style>\n",
              "<table border=\"1\" class=\"dataframe\">\n",
              "  <thead>\n",
              "    <tr style=\"text-align: right;\">\n",
              "      <th></th>\n",
              "      <th>website_name</th>\n",
              "      <th>category</th>\n",
              "      <th>title</th>\n",
              "      <th>authors</th>\n",
              "      <th>published_date</th>\n",
              "      <th>content</th>\n",
              "      <th>language</th>\n",
              "      <th>url</th>\n",
              "      <th>key</th>\n",
              "    </tr>\n",
              "  </thead>\n",
              "  <tbody>\n",
              "    <tr>\n",
              "      <th>0</th>\n",
              "      <td>Setopati</td>\n",
              "      <td>Politics</td>\n",
              "      <td>Constitutional Council meeting ends without re...</td>\n",
              "      <td>NaN</td>\n",
              "      <td>01-08-2023</td>\n",
              "      <td>The Constitutional Council meeting held on Tue...</td>\n",
              "      <td>English</td>\n",
              "      <td>https://en.setopati.com/political/161488</td>\n",
              "      <td>NaN</td>\n",
              "    </tr>\n",
              "    <tr>\n",
              "      <th>1</th>\n",
              "      <td>Setopati</td>\n",
              "      <td>Politics</td>\n",
              "      <td>Uddhav Thapa appointed Koshi chief minister again</td>\n",
              "      <td>NaN</td>\n",
              "      <td>01-08-2023</td>\n",
              "      <td>Uddhav Thapa of Nepali Congress has become chi...</td>\n",
              "      <td>English</td>\n",
              "      <td>https://en.setopati.com/political/161487</td>\n",
              "      <td>NaN</td>\n",
              "    </tr>\n",
              "    <tr>\n",
              "      <th>2</th>\n",
              "      <td>Setopati</td>\n",
              "      <td>Politics</td>\n",
              "      <td>House meeting postponed until Monday</td>\n",
              "      <td>NaN</td>\n",
              "      <td>01-08-2023</td>\n",
              "      <td>The House of Representatives (HoR) meeting has...</td>\n",
              "      <td>English</td>\n",
              "      <td>https://en.setopati.com/political/161486</td>\n",
              "      <td>NaN</td>\n",
              "    </tr>\n",
              "    <tr>\n",
              "      <th>3</th>\n",
              "      <td>Setopati</td>\n",
              "      <td>Politics</td>\n",
              "      <td>Pun refutes connection to Dawa Tsering arreste...</td>\n",
              "      <td>NaN</td>\n",
              "      <td>31-07-2023</td>\n",
              "      <td>CPN (Maoist Center) Deputy General Secretary B...</td>\n",
              "      <td>English</td>\n",
              "      <td>https://en.setopati.com/political/161480</td>\n",
              "      <td>NaN</td>\n",
              "    </tr>\n",
              "    <tr>\n",
              "      <th>4</th>\n",
              "      <td>Setopati</td>\n",
              "      <td>Politics</td>\n",
              "      <td>Maoist Center also opts for live broadcast of ...</td>\n",
              "      <td>NaN</td>\n",
              "      <td>31-07-2023</td>\n",
              "      <td>CPN (Maoist Center) has also decided to broadc...</td>\n",
              "      <td>English</td>\n",
              "      <td>https://en.setopati.com/political/161479</td>\n",
              "      <td>NaN</td>\n",
              "    </tr>\n",
              "  </tbody>\n",
              "</table>\n",
              "</div>\n",
              "    <div class=\"colab-df-buttons\">\n",
              "\n",
              "  <div class=\"colab-df-container\">\n",
              "    <button class=\"colab-df-convert\" onclick=\"convertToInteractive('df-4b59ab3d-0341-411d-bc08-72a70a94f73c')\"\n",
              "            title=\"Convert this dataframe to an interactive table.\"\n",
              "            style=\"display:none;\">\n",
              "\n",
              "  <svg xmlns=\"http://www.w3.org/2000/svg\" height=\"24px\" viewBox=\"0 -960 960 960\">\n",
              "    <path d=\"M120-120v-720h720v720H120Zm60-500h600v-160H180v160Zm220 220h160v-160H400v160Zm0 220h160v-160H400v160ZM180-400h160v-160H180v160Zm440 0h160v-160H620v160ZM180-180h160v-160H180v160Zm440 0h160v-160H620v160Z\"/>\n",
              "  </svg>\n",
              "    </button>\n",
              "\n",
              "  <style>\n",
              "    .colab-df-container {\n",
              "      display:flex;\n",
              "      gap: 12px;\n",
              "    }\n",
              "\n",
              "    .colab-df-convert {\n",
              "      background-color: #E8F0FE;\n",
              "      border: none;\n",
              "      border-radius: 50%;\n",
              "      cursor: pointer;\n",
              "      display: none;\n",
              "      fill: #1967D2;\n",
              "      height: 32px;\n",
              "      padding: 0 0 0 0;\n",
              "      width: 32px;\n",
              "    }\n",
              "\n",
              "    .colab-df-convert:hover {\n",
              "      background-color: #E2EBFA;\n",
              "      box-shadow: 0px 1px 2px rgba(60, 64, 67, 0.3), 0px 1px 3px 1px rgba(60, 64, 67, 0.15);\n",
              "      fill: #174EA6;\n",
              "    }\n",
              "\n",
              "    .colab-df-buttons div {\n",
              "      margin-bottom: 4px;\n",
              "    }\n",
              "\n",
              "    [theme=dark] .colab-df-convert {\n",
              "      background-color: #3B4455;\n",
              "      fill: #D2E3FC;\n",
              "    }\n",
              "\n",
              "    [theme=dark] .colab-df-convert:hover {\n",
              "      background-color: #434B5C;\n",
              "      box-shadow: 0px 1px 3px 1px rgba(0, 0, 0, 0.15);\n",
              "      filter: drop-shadow(0px 1px 2px rgba(0, 0, 0, 0.3));\n",
              "      fill: #FFFFFF;\n",
              "    }\n",
              "  </style>\n",
              "\n",
              "    <script>\n",
              "      const buttonEl =\n",
              "        document.querySelector('#df-4b59ab3d-0341-411d-bc08-72a70a94f73c button.colab-df-convert');\n",
              "      buttonEl.style.display =\n",
              "        google.colab.kernel.accessAllowed ? 'block' : 'none';\n",
              "\n",
              "      async function convertToInteractive(key) {\n",
              "        const element = document.querySelector('#df-4b59ab3d-0341-411d-bc08-72a70a94f73c');\n",
              "        const dataTable =\n",
              "          await google.colab.kernel.invokeFunction('convertToInteractive',\n",
              "                                                    [key], {});\n",
              "        if (!dataTable) return;\n",
              "\n",
              "        const docLinkHtml = 'Like what you see? Visit the ' +\n",
              "          '<a target=\"_blank\" href=https://colab.research.google.com/notebooks/data_table.ipynb>data table notebook</a>'\n",
              "          + ' to learn more about interactive tables.';\n",
              "        element.innerHTML = '';\n",
              "        dataTable['output_type'] = 'display_data';\n",
              "        await google.colab.output.renderOutput(dataTable, element);\n",
              "        const docLink = document.createElement('div');\n",
              "        docLink.innerHTML = docLinkHtml;\n",
              "        element.appendChild(docLink);\n",
              "      }\n",
              "    </script>\n",
              "  </div>\n",
              "\n",
              "\n",
              "<div id=\"df-2919a4cb-ab7b-471f-b4c9-e7a8f7e201a3\">\n",
              "  <button class=\"colab-df-quickchart\" onclick=\"quickchart('df-2919a4cb-ab7b-471f-b4c9-e7a8f7e201a3')\"\n",
              "            title=\"Suggest charts\"\n",
              "            style=\"display:none;\">\n",
              "\n",
              "<svg xmlns=\"http://www.w3.org/2000/svg\" height=\"24px\"viewBox=\"0 0 24 24\"\n",
              "     width=\"24px\">\n",
              "    <g>\n",
              "        <path d=\"M19 3H5c-1.1 0-2 .9-2 2v14c0 1.1.9 2 2 2h14c1.1 0 2-.9 2-2V5c0-1.1-.9-2-2-2zM9 17H7v-7h2v7zm4 0h-2V7h2v10zm4 0h-2v-4h2v4z\"/>\n",
              "    </g>\n",
              "</svg>\n",
              "  </button>\n",
              "\n",
              "<style>\n",
              "  .colab-df-quickchart {\n",
              "      --bg-color: #E8F0FE;\n",
              "      --fill-color: #1967D2;\n",
              "      --hover-bg-color: #E2EBFA;\n",
              "      --hover-fill-color: #174EA6;\n",
              "      --disabled-fill-color: #AAA;\n",
              "      --disabled-bg-color: #DDD;\n",
              "  }\n",
              "\n",
              "  [theme=dark] .colab-df-quickchart {\n",
              "      --bg-color: #3B4455;\n",
              "      --fill-color: #D2E3FC;\n",
              "      --hover-bg-color: #434B5C;\n",
              "      --hover-fill-color: #FFFFFF;\n",
              "      --disabled-bg-color: #3B4455;\n",
              "      --disabled-fill-color: #666;\n",
              "  }\n",
              "\n",
              "  .colab-df-quickchart {\n",
              "    background-color: var(--bg-color);\n",
              "    border: none;\n",
              "    border-radius: 50%;\n",
              "    cursor: pointer;\n",
              "    display: none;\n",
              "    fill: var(--fill-color);\n",
              "    height: 32px;\n",
              "    padding: 0;\n",
              "    width: 32px;\n",
              "  }\n",
              "\n",
              "  .colab-df-quickchart:hover {\n",
              "    background-color: var(--hover-bg-color);\n",
              "    box-shadow: 0 1px 2px rgba(60, 64, 67, 0.3), 0 1px 3px 1px rgba(60, 64, 67, 0.15);\n",
              "    fill: var(--button-hover-fill-color);\n",
              "  }\n",
              "\n",
              "  .colab-df-quickchart-complete:disabled,\n",
              "  .colab-df-quickchart-complete:disabled:hover {\n",
              "    background-color: var(--disabled-bg-color);\n",
              "    fill: var(--disabled-fill-color);\n",
              "    box-shadow: none;\n",
              "  }\n",
              "\n",
              "  .colab-df-spinner {\n",
              "    border: 2px solid var(--fill-color);\n",
              "    border-color: transparent;\n",
              "    border-bottom-color: var(--fill-color);\n",
              "    animation:\n",
              "      spin 1s steps(1) infinite;\n",
              "  }\n",
              "\n",
              "  @keyframes spin {\n",
              "    0% {\n",
              "      border-color: transparent;\n",
              "      border-bottom-color: var(--fill-color);\n",
              "      border-left-color: var(--fill-color);\n",
              "    }\n",
              "    20% {\n",
              "      border-color: transparent;\n",
              "      border-left-color: var(--fill-color);\n",
              "      border-top-color: var(--fill-color);\n",
              "    }\n",
              "    30% {\n",
              "      border-color: transparent;\n",
              "      border-left-color: var(--fill-color);\n",
              "      border-top-color: var(--fill-color);\n",
              "      border-right-color: var(--fill-color);\n",
              "    }\n",
              "    40% {\n",
              "      border-color: transparent;\n",
              "      border-right-color: var(--fill-color);\n",
              "      border-top-color: var(--fill-color);\n",
              "    }\n",
              "    60% {\n",
              "      border-color: transparent;\n",
              "      border-right-color: var(--fill-color);\n",
              "    }\n",
              "    80% {\n",
              "      border-color: transparent;\n",
              "      border-right-color: var(--fill-color);\n",
              "      border-bottom-color: var(--fill-color);\n",
              "    }\n",
              "    90% {\n",
              "      border-color: transparent;\n",
              "      border-bottom-color: var(--fill-color);\n",
              "    }\n",
              "  }\n",
              "</style>\n",
              "\n",
              "  <script>\n",
              "    async function quickchart(key) {\n",
              "      const quickchartButtonEl =\n",
              "        document.querySelector('#' + key + ' button');\n",
              "      quickchartButtonEl.disabled = true;  // To prevent multiple clicks.\n",
              "      quickchartButtonEl.classList.add('colab-df-spinner');\n",
              "      try {\n",
              "        const charts = await google.colab.kernel.invokeFunction(\n",
              "            'suggestCharts', [key], {});\n",
              "      } catch (error) {\n",
              "        console.error('Error during call to suggestCharts:', error);\n",
              "      }\n",
              "      quickchartButtonEl.classList.remove('colab-df-spinner');\n",
              "      quickchartButtonEl.classList.add('colab-df-quickchart-complete');\n",
              "    }\n",
              "    (() => {\n",
              "      let quickchartButtonEl =\n",
              "        document.querySelector('#df-2919a4cb-ab7b-471f-b4c9-e7a8f7e201a3 button');\n",
              "      quickchartButtonEl.style.display =\n",
              "        google.colab.kernel.accessAllowed ? 'block' : 'none';\n",
              "    })();\n",
              "  </script>\n",
              "</div>\n",
              "\n",
              "    </div>\n",
              "  </div>\n"
            ],
            "application/vnd.google.colaboratory.intrinsic+json": {
              "type": "dataframe",
              "variable_name": "df",
              "summary": "{\n  \"name\": \"df\",\n  \"rows\": 11583,\n  \"fields\": [\n    {\n      \"column\": \"website_name\",\n      \"properties\": {\n        \"dtype\": \"category\",\n        \"num_unique_values\": 4,\n        \"samples\": [\n          \"The Himalayan Times\",\n          \"Online Khabar - English\",\n          \"Setopati\"\n        ],\n        \"semantic_type\": \"\",\n        \"description\": \"\"\n      }\n    },\n    {\n      \"column\": \"category\",\n      \"properties\": {\n        \"dtype\": \"category\",\n        \"num_unique_values\": 17,\n        \"samples\": [\n          \"Politics\",\n          \"Society\",\n          \"Blog\"\n        ],\n        \"semantic_type\": \"\",\n        \"description\": \"\"\n      }\n    },\n    {\n      \"column\": \"title\",\n      \"properties\": {\n        \"dtype\": \"string\",\n        \"num_unique_values\": 11539,\n        \"samples\": [\n          \"Hypertension: A silent killer is on the prowl. Are your defences ready?\",\n          \"Govt heeds NC call to manage hospitals named after Koiralas centrally\",\n          \"Paudel stresses on finding Oli's alternative\"\n        ],\n        \"semantic_type\": \"\",\n        \"description\": \"\"\n      }\n    },\n    {\n      \"column\": \"authors\",\n      \"properties\": {\n        \"dtype\": \"category\",\n        \"num_unique_values\": 306,\n        \"samples\": [\n          \"Ajit Tiwari\",\n          \"Prabhat Kumar Jha\",\n          \"Bijay Laxmi Duwal\"\n        ],\n        \"semantic_type\": \"\",\n        \"description\": \"\"\n      }\n    },\n    {\n      \"column\": \"published_date\",\n      \"properties\": {\n        \"dtype\": \"category\",\n        \"num_unique_values\": 2544,\n        \"samples\": [\n          \"13-01-2023\",\n          \"19-06-2016\",\n          \"27-01-2017\"\n        ],\n        \"semantic_type\": \"\",\n        \"description\": \"\"\n      }\n    },\n    {\n      \"column\": \"content\",\n      \"properties\": {\n        \"dtype\": \"string\",\n        \"num_unique_values\": 11579,\n        \"samples\": [\n          \"Jhakku Prasad Subedi is busy soliciting votes as he is contesting for the House of Representatives from Kathmandu-6. But, strange it may sound, his son Santosh has been arrested in Rolpa for carrying out anti-poll activities.\\nPolice in the western hilly district arrested junior Subedi, who is also a district level leader of Netra Bikram Chand \\u2018Biplav\\u2019-led CPN Maoist. Jhakku, however, belongs to the CPN-Maoist Centre and is contesting the polls against incumbent Defence Minister Bhimsen Das Pradhan.\\nThe CPN-UML has also extended support to him as an official candidate of the leftist alliance. But his son\\u2019s party has formally announced to oppose the elections and carry out activities against voting.\\nIt has been learned that police are planning to file a public offence case against Santosh. Few months ago, he was accused of abducting a local Maoist leader.\\nJhakku and Santosh were in the same party during the conflict period and in early years of the peace process. But, when Biplav formed a new party putting forth various points of disagreements with Pushpa Kamal Dahal-led party\\u2019s leadership, Santosh joined the fringe outfit when Jhakku remained faithful to the party\\u2019s mainstream.\",\n          \"\\u201cAre we in paradise?\\u201d our manager asked, \\u201cThere are angels all around us.\\u201d\\nWell, if blue eyes, blonde hair and fair complexion were the criteria for angels, then it did seem that we had, indeed, arrived in paradise. The street, a no-vehicle zone, was full of \\u2018angels\\u2019, most of who were dressed in blue denim and fur jackets.\\n\\u201cEven the doors open by themselves!\\u201d our manager exclaimed at the glass doors of our hotel that opened automatically. There was an automatic shoeshine machine in the adjoining lobby, which further elicited from him, \\u201cAnd there\\u2019s no need to polish our shoes either!\\u201d Nearby, a vendor machine served tea, coffee, and chocolate. All one had to do was drop a five kroner coin into the slot and place a paper cup below the nozzle.\\nIt all seemed like magic to us.\\nThe year was 1983, and we were in Copenhagen, Denmark, to compete in the 6th World Taekwondo Championship.\\nA framed photo of the hotel owner in trekking gear with the Himalayas behind him stood proudly on the reception desk, obviously kept there recently to impress us. Taking the lift up, we walked the richly carpeted corridor to our rooms carrying our luggage. There were no bellboys, everything was self-service, and because everything was so systematic things worked. There was no problem at all.\\nNaturally, we were impatient to see what this famous city was like. Half an hour later as we ventured out, we were brought to a complete halt at the very first corner from the hotel, our eyes drawn up to a signboard on which was emblazoned, \\u2018The Biggest Sex Shop in Denmark.\\u2019\\n\\u201cIs this heaven or what?\\u201d my compatriots\\u2019 eyes seemed to say. This was the first time in my entire life that I was in front of such an establishment.\\nWe examined the shop more closely. On one side there was a booth, like the ones you see in a theatre with a small glass fronted cubicle. Behind it was a flaxen haired woman. A small notice read, \\u2018Live Show, only 10 kroner.\\u2019\\nWe passed it for the moment, with minds already made up to see it soon, and looked into the display windows. A blonde haired couple with two small kids was also viewing the products \\u2013 sex toys (dildos, whips, and plastic dolls, I could recognize, the others I couldn\\u2019t), pornographic films and magazines, leather dresses, masks, and so on \\u2013 with casual interest.\\nWe walked along the enchanted streets. Girls in tight jeans, almost all of them tall, slim, and blonde, smiled as they passed. Two teenage girls, heavily made up (punk style with spiky purple hairs) and clad in short leather miniskirts and knee length boots, threw a question across at us casually, \\u201cWant to have a good time?\\u201d\\nWe looked at one another, my dazed comrades and I, and then stared at the girls. They were gorgeous.\\nWe smiled at them, shook our heads sorrowfully and passed them by, determined to catch up on what we were missing as soon as possible.\\n***\\nOne might ask as to why we were put up in a red light district in the first place. But we were not the only ones.\\nOur hotel also accommodated the Turkish team and some members of the South American team. It must have been so because of the relatively cheaper prices there. Nonetheless, I was convinced that we must have done some great and noble deeds in our previous lives to have landed in Helgolandsgade. We hardly got any sleep the first night.\\nThe long night would find one of us always at the window looking down from our third floor room at the interesting rendezvous that happened all night on the sidewalks below.\\nWhile the one who couldn\\u2019t stop peering through the window the whole night snoozed, me and my other compatriot decided to go for a run in the morning, like we used to do back in Kathmandu. We had hardly covered a few blocks but were soon halted by a huge movie poster over a two-storied brick building.\\n\\n\\nOf course, we had seen plenty of film posters before, but really, none like this. The scene depicted would have caused the dead to rise, that was for sure\\u2014a man and a woman in the buff (in less literary terms, totally bare-arsed) making love (in less literary terms, having explicit sex).\\nAfter that, our run became first a brisk jog, then a more leisurely trot, and finally all we did for some five blocks was saunter and gape at similar posters. On the wide pavement with colorful flower pots lined up on the far side, we saw a number of vending machines. One was for cigarettes, the other sold newspapers, one sold cellophane-wrapped packets with two big bananas and an orange. The one at the end sold pornographic magazines.\\nRemember again, this was all 26 years ago, and we were from the backwaters of the world.\\nSoon enough, we found ourselves talking to a couple of girls on the sidewalk. The conversation went something like: \\u201cWant to have a good time?\\u201d and \\u201cHow much?\\u201d when my friend suddenly whispered, \\u201cPolice.\\u201d\\nConditioned as we were back home, I became wary at seeing the police car cruising down the road, but the next moment better sense prevailed. \\u201cRelax. This is Copenhagen,\\u201d I said to myself and my friend. \\u201cWe\\u2019re not committing a crime.\\u201d\\nIn fact, we were in a city where affection (in more literary terms, frank ardor) was displayed quite openly, any place, any time. Although I must hasten to confess that most of my Copenhagen experience (at least the most interesting ones, understandably) was limited to its red light district, so perhaps things were different elsewhere.\\nHowever, from what I could see, the city\\u2019s youth did seem to be pretty bohemian elsewhere too.\\n***\\nIn Copenhagen, there is a shopping district along the famous pedestrian street Str\\u00f8get, where a maze of several walking streets converges to form one of the largest and the oldest street markets in the world.\\nMichen and Christina, two girls (not from the red light district, mind you), whom we had befriended during our stay in Copenhagen, had lovingly agreed to take me and my friend there.\\nThey took us to a lane lined with small shops selling Eastern curios and jewelry, many of them owned by long haired ex-hippies who had apparently spent some time in the Kathmandu of the 1970s. The presence of the local girls gave us confidence to negotiate, more forcefully, the sale of the many turquoise, garnet, coral, and silver jewelries we had brought from Kathmandu with a mind to make a few kroner on the side.\\n\\n\\nDid we make a bundle? Well, enough to feel comfortable and buy some gifts for folks back home. We were taken on a guided tour around most of the historic places and the prominent sights of this charming city including, of course, the world famous \\u2018Little Mermaid\\u2019 on the Copenhagen harbour.\\nWe saw the changing of the guards (in their beefeater hats) at the palace gates. We visited the city\\u2019s old quarters and strolled around lovely parks, some of which spread around beautiful lakes.\\nWe passed across impressive bronze and stone statues and embossing at many street corners and squares around the city. Madam Tussaud\\u2019s Wax Museum was unfortunately under renovation and the Parque Tivoli was also closed, but we did spend some time capturing the Danish atmosphere sitting on a bench in the city square.\\nThat evening, we parted our ways unusually early because we couldn\\u2019t afford to take Michen and Christina to dinner. The kroner were trading at one to our nine rupees then.\\nAs they said their farewells with hugs and kisses, my other friend, who has always been shy, remarked, \\u201cImagine if we were to do this in New Road!\\u201d\\n***\\nThe day of the competitions arrived sooner than we had anticipated\\nBrondby Hallen, a magnificent stadium \\u2013 where, besides sporting activities, big musical shows were also performed \\u2013 soon became our base.\\nIn the first fight of the competitions, my shy but hungry-for-hugs friend was up against a guy from Egypt. I remember him walking up to the ring reluctantly, behind our coach. He reminded me of a goat being taken to slaughter.\\nAs my fight was on the third day, I enjoyed seeing guys being taken away on stretchers. Only, sometimes, a chill would go through me, when I remembered that I too would be facing the music soon.\\nBut my fight went off quite well. My opponent, a Swiss, took a tumble in the first minute, the result of a good old Gorkhali side kick. In the next round, he slumped to his knees; the result of a good old Gorkhali punch to the Adam\\u2019s apple.\\nThat, as it turned out, was a sucker punch, and elicited a penalty point. The third round, he got me twice with turning kicks on the face. I don\\u2019t know how I could have been so careless.\\nThat was the end of the road for me at the competitions.\\nHowever, we did get a trophy to carry home even though it was only meant for encouragement.\\nWhile returning home, we had a layover at Paris, where we stayed for a night.\\nWe spent a night at what was easily the eeriest place I have ever stayed in. It was so frightening that I have even forgotten its name. Talk about auto-erasure of horrible memories!\\nDimly lit corridors, blood red furnishings, 16th century furniture, claustrophobically mirrored creaking lift, and Dracula manning the front desk in a tiny lobby. He never smiled, so we couldn\\u2019t see his fangs, but he was tall, thin, waxy-complexioned, balding, and he had \\u2013 trust me \\u2013 bloodshot eyes sunk in deep dark sockets.\\nWe were far away from the neon-lit sidewalks of Copenhagen.\\nThe next morning, we left for the airport in two taxis. Soon we landed in the sweltering heat of India, spending an uncomfortable night at the Delhi airport, before catching the flight to Kathmandu the next morning in a plane in which the doors refused to close.\\nThe poor air hostesses were embarrassed all right, with all that pulling and pushing. We were finally breathing the cool air at Kathmandu airport, although to be absolutely honest, I wasn\\u2019t happy to be back home so soon.\\n(Amar B Shrestha is the author of \\u2018The Dark Mermaid\\u2019).\\n\\n***\\nAlso read\\nThamel: In the Garden of Unfulfilled Dreams\\nRetracing a Bengali detective\\u2019s footsteps in Kathmandu\",\n          \"The government is preparing to make it mandatory for employers to pay their employees salary through banking channels mandatory.\\nMinister for Labour, Employment and Social Security Gokarna Bista has begun preparations to amend Labour Regulations to implement the new system.\\nThe government hopes that such a system will ensure that the labourers get their pay as mentioned in their employment contract so that the minimum wage standards get implemented everywhere.\\nOfficials say the preparation was made after it was found that some schools, hospitals, banks and financial institutions and private firms are paying their staff much lower than the standards set by the governments.\\nWhen the new provision will come into effect, the employers have to submit details of payments made to the staff when they apply for their registration renewal.\\nMeanwhile, the government is preparing to fix new minimum wage standards to implement from the beginning of next fiscal year, according to the Ministry\\u2019s Joint Secretary Krishna Gyawali.\"\n        ],\n        \"semantic_type\": \"\",\n        \"description\": \"\"\n      }\n    },\n    {\n      \"column\": \"language\",\n      \"properties\": {\n        \"dtype\": \"category\",\n        \"num_unique_values\": 1,\n        \"samples\": [\n          \"English\"\n        ],\n        \"semantic_type\": \"\",\n        \"description\": \"\"\n      }\n    },\n    {\n      \"column\": \"url\",\n      \"properties\": {\n        \"dtype\": \"string\",\n        \"num_unique_values\": 11006,\n        \"samples\": [\n          \"https://thehimalayantimes.com/lifestyle/nepal-international-tattoo-convention-returning-to-capital-after-pandemic-hiatus\"\n        ],\n        \"semantic_type\": \"\",\n        \"description\": \"\"\n      }\n    },\n    {\n      \"column\": \"key\",\n      \"properties\": {\n        \"dtype\": \"category\",\n        \"num_unique_values\": 1076,\n        \"samples\": [\n          \"kathmundu_post1046\"\n        ],\n        \"semantic_type\": \"\",\n        \"description\": \"\"\n      }\n    }\n  ]\n}"
            }
          },
          "metadata": {},
          "execution_count": 3
        }
      ]
    },
    {
      "cell_type": "code",
      "source": [
        "len(df)"
      ],
      "metadata": {
        "colab": {
          "base_uri": "https://localhost:8080/"
        },
        "id": "iStuBBSckSyz",
        "outputId": "e4fb1873-255a-4d4d-de2d-4c6398cb1d3e"
      },
      "execution_count": null,
      "outputs": [
        {
          "output_type": "execute_result",
          "data": {
            "text/plain": [
              "11583"
            ]
          },
          "metadata": {},
          "execution_count": 4
        }
      ]
    },
    {
      "cell_type": "code",
      "source": [
        "pip install vaderSentiment"
      ],
      "metadata": {
        "colab": {
          "base_uri": "https://localhost:8080/"
        },
        "id": "DI9CATolIAgC",
        "outputId": "d71e87f0-df64-4120-97c4-1618cf6c9a7c"
      },
      "execution_count": null,
      "outputs": [
        {
          "output_type": "stream",
          "name": "stdout",
          "text": [
            "Collecting vaderSentiment\n",
            "  Downloading vaderSentiment-3.3.2-py2.py3-none-any.whl (125 kB)\n",
            "\u001b[?25l     \u001b[90m━━━━━━━━━━━━━━━━━━━━━━━━━━━━━━━━━━━━━━━━\u001b[0m \u001b[32m0.0/126.0 kB\u001b[0m \u001b[31m?\u001b[0m eta \u001b[36m-:--:--\u001b[0m\r\u001b[2K     \u001b[91m━━━━━━━━━━━━━━━━━━━━━━━━━━━━━━━━━━━━━━━\u001b[0m\u001b[90m╺\u001b[0m \u001b[32m122.9/126.0 kB\u001b[0m \u001b[31m3.8 MB/s\u001b[0m eta \u001b[36m0:00:01\u001b[0m\r\u001b[2K     \u001b[90m━━━━━━━━━━━━━━━━━━━━━━━━━━━━━━━━━━━━━━━━\u001b[0m \u001b[32m126.0/126.0 kB\u001b[0m \u001b[31m2.9 MB/s\u001b[0m eta \u001b[36m0:00:00\u001b[0m\n",
            "\u001b[?25hRequirement already satisfied: requests in /usr/local/lib/python3.10/dist-packages (from vaderSentiment) (2.31.0)\n",
            "Requirement already satisfied: charset-normalizer<4,>=2 in /usr/local/lib/python3.10/dist-packages (from requests->vaderSentiment) (3.3.2)\n",
            "Requirement already satisfied: idna<4,>=2.5 in /usr/local/lib/python3.10/dist-packages (from requests->vaderSentiment) (3.7)\n",
            "Requirement already satisfied: urllib3<3,>=1.21.1 in /usr/local/lib/python3.10/dist-packages (from requests->vaderSentiment) (2.0.7)\n",
            "Requirement already satisfied: certifi>=2017.4.17 in /usr/local/lib/python3.10/dist-packages (from requests->vaderSentiment) (2024.2.2)\n",
            "Installing collected packages: vaderSentiment\n",
            "Successfully installed vaderSentiment-3.3.2\n"
          ]
        }
      ]
    },
    {
      "cell_type": "code",
      "source": [
        "import pandas as pd\n",
        "from vaderSentiment.vaderSentiment import SentimentIntensityAnalyzer\n",
        "import matplotlib.pyplot as plt\n",
        "\n",
        "# Initialize VADER sentiment analyzer\n",
        "analyzer = SentimentIntensityAnalyzer()\n",
        "\n",
        "# Define keywords\n",
        "words_to_check = [\"floods\", \"landslide\", \"landslides\", \"hailstorm\", \"disaster\", \"lightning\", \"wildfire\", \"wildfires\", \"flood\", \"pollution\", \"emissions\"]\n",
        "\n",
        "# Function to check if any keyword is in the content\n",
        "def contains_keyword(text, keywords):\n",
        "    return any(keyword in text.lower() for keyword in keywords)\n",
        "\n",
        "# Filter the dataframe based on keywords\n",
        "filtered_df = df[df['content'].apply(lambda x: contains_keyword(str(x), words_to_check))]\n",
        "\n",
        "# Perform sentiment analysis with VADER\n",
        "def analyze_sentiment_vader(text):\n",
        "    scores = analyzer.polarity_scores(text)\n",
        "    return scores['compound']\n",
        "\n",
        "# Add sentiment scores to the dataframe\n",
        "filtered_df['sentiment'] = filtered_df['content'].apply(analyze_sentiment_vader)\n",
        "\n",
        "# Categorize sentiments\n",
        "def sentiment_category(score):\n",
        "    if score > 0.05:\n",
        "        return 'Positive'\n",
        "    elif score < -0.05:\n",
        "        return 'Negative'\n",
        "    else:\n",
        "        return 'Neutral'\n",
        "\n",
        "filtered_df['sentiment_category'] = filtered_df['sentiment'].apply(sentiment_category)\n",
        "\n",
        "# Print sample content and sentiment scores for inspection\n",
        "sample = filtered_df[['content', 'sentiment', 'sentiment_category']].head(20)\n",
        "print(sample)\n",
        "\n",
        "# Generate pie chart\n",
        "sentiment_counts = filtered_df['sentiment_category'].value_counts()\n",
        "\n",
        "# Plot pie chart\n",
        "plt.figure(figsize=(8, 8))\n",
        "plt.pie(sentiment_counts, labels=sentiment_counts.index, autopct='%1.1f%%', startangle=140, colors=['#66b3ff','#ff9999','#99ff99'])\n",
        "plt.title('Sentiment Distribution of Disaster-Related Content')\n",
        "plt.axis('equal')  # Equal aspect ratio ensures the pie is drawn as a circle.\n",
        "plt.show()\n"
      ],
      "metadata": {
        "colab": {
          "base_uri": "https://localhost:8080/",
          "height": 1000
        },
        "id": "NnHB1BVwH5sj",
        "outputId": "3ddb632b-6da0-4f77-f3cf-e1f546d20ca3"
      },
      "execution_count": null,
      "outputs": [
        {
          "output_type": "stream",
          "name": "stderr",
          "text": [
            "<ipython-input-6-777b36172dd0>:24: SettingWithCopyWarning: \n",
            "A value is trying to be set on a copy of a slice from a DataFrame.\n",
            "Try using .loc[row_indexer,col_indexer] = value instead\n",
            "\n",
            "See the caveats in the documentation: https://pandas.pydata.org/pandas-docs/stable/user_guide/indexing.html#returning-a-view-versus-a-copy\n",
            "  filtered_df['sentiment'] = filtered_df['content'].apply(analyze_sentiment_vader)\n",
            "<ipython-input-6-777b36172dd0>:35: SettingWithCopyWarning: \n",
            "A value is trying to be set on a copy of a slice from a DataFrame.\n",
            "Try using .loc[row_indexer,col_indexer] = value instead\n",
            "\n",
            "See the caveats in the documentation: https://pandas.pydata.org/pandas-docs/stable/user_guide/indexing.html#returning-a-view-versus-a-copy\n",
            "  filtered_df['sentiment_category'] = filtered_df['sentiment'].apply(sentiment_category)\n"
          ]
        },
        {
          "output_type": "stream",
          "name": "stdout",
          "text": [
            "                                               content  sentiment  \\\n",
            "23   A total of 29 persons have been killed while 2...    -0.9946   \n",
            "24   Good Neighbors International (GNI) Nepal celeb...     0.9976   \n",
            "47   During the monsoon season, almost every day, w...    -0.9971   \n",
            "48   The politics is heated in the past few days du...     0.9844   \n",
            "56   What does the future of humanity look like? Ma...     0.9993   \n",
            "73   The Meteorological Forecast Division (MFD) has...     0.9144   \n",
            "75   Nepal Rastra Bank, the central bank, has agree...     0.8724   \n",
            "85   The much-awaited meeting of the Central Commit...     0.9885   \n",
            "98   The most-anticipated fashion event of the coun...     0.9981   \n",
            "102  She has secured her space in Nepali theatre as...     0.9927   \n",
            "110  The government has shown keen interest in expe...     0.9853   \n",
            "116  There is no exact data on the number of refuge...     0.4215   \n",
            "118  For the first time, Nepal has been able to exp...     0.9509   \n",
            "130  \" Climate change is the biggest threat to secu...    -0.7943   \n",
            "134  At least five people were killed and 28 others...    -0.9684   \n",
            "162  Despite the mandatory order from the Nepal Tou...     0.3865   \n",
            "163  The new constitution of Nepal 2015 has provisi...    -0.9587   \n",
            "166  Air pollution can be defined simply as the pre...     0.5415   \n",
            "179  Actor par excellence, Indian actor Irrfan Khan...     0.9992   \n",
            "185  Solar energy will be a leading renewable sourc...     0.9958   \n",
            "\n",
            "    sentiment_category  \n",
            "23            Negative  \n",
            "24            Positive  \n",
            "47            Negative  \n",
            "48            Positive  \n",
            "56            Positive  \n",
            "73            Positive  \n",
            "75            Positive  \n",
            "85            Positive  \n",
            "98            Positive  \n",
            "102           Positive  \n",
            "110           Positive  \n",
            "116           Positive  \n",
            "118           Positive  \n",
            "130           Negative  \n",
            "134           Negative  \n",
            "162           Positive  \n",
            "163           Negative  \n",
            "166           Positive  \n",
            "179           Positive  \n",
            "185           Positive  \n"
          ]
        },
        {
          "output_type": "display_data",
          "data": {
            "text/plain": [
              "<Figure size 800x800 with 1 Axes>"
            ],
            "image/png": "[encoded data removed]"
          },
          "metadata": {}
        }
      ]
    },
    {
      "cell_type": "code",
      "source": [
        "# Print the counts of each sentiment category\n",
        "print(\"Number of Positive contents:\", sentiment_counts.get('Positive', 0))\n",
        "print(\"Number of Negative contents:\", sentiment_counts.get('Negative', 0))\n",
        "print(\"Number of Neutral contents:\", sentiment_counts.get('Neutral', 0))"
      ],
      "metadata": {
        "colab": {
          "base_uri": "https://localhost:8080/"
        },
        "id": "kIZn-l2YyFTN",
        "outputId": "c05ecf9b-4fb9-452e-f110-bc420e146ce9"
      },
      "execution_count": null,
      "outputs": [
        {
          "output_type": "stream",
          "name": "stdout",
          "text": [
            "Number of Positive contents: 364\n",
            "Number of Negative contents: 369\n",
            "Number of Neutral contents: 7\n"
          ]
        }
      ]
    },
    {
      "cell_type": "code",
      "source": [
        "# Print the number of rows containing disaster-related words\n",
        "num_disaster_related_rows = len(filtered_df)\n",
        "print(num_disaster_related_rows)\n",
        "total_rows = len(df)\n",
        "print(f\"Number of rows containing disaster-related words: {num_disaster_related_rows}\")"
      ],
      "metadata": {
        "colab": {
          "base_uri": "https://localhost:8080/"
        },
        "id": "mVJE5nfwJPwB",
        "outputId": "92764f32-1eae-4288-8bfb-528e8798d8b2"
      },
      "execution_count": null,
      "outputs": [
        {
          "output_type": "stream",
          "name": "stdout",
          "text": [
            "740\n",
            "Number of rows containing disaster-related words: 740\n"
          ]
        }
      ]
    },
    {
      "cell_type": "code",
      "source": [
        "print(f\"Number of rows containing disaster-related words: {num_disaster_related_rows/total_rows}\")"
      ],
      "metadata": {
        "colab": {
          "base_uri": "https://localhost:8080/"
        },
        "id": "tjyAj71cJTaT",
        "outputId": "92233307-159a-41c7-acc8-e16ed436975e"
      },
      "execution_count": null,
      "outputs": [
        {
          "output_type": "stream",
          "name": "stdout",
          "text": [
            "Number of rows containing disaster-related words: 0.06388673055339722\n"
          ]
        }
      ]
    },
    {
      "cell_type": "code",
      "source": [
        "# Count the number of articles related to each keyword\n",
        "keyword_counts = {keyword: 0 for keyword in words_to_check}\n",
        "for text in df['content']:\n",
        "    for keyword in words_to_check:\n",
        "        if keyword in str(text).lower():\n",
        "            keyword_counts[keyword] += 1\n",
        "\n",
        "# Convert the keyword counts to a DataFrame for plotting\n",
        "keyword_counts_df = pd.DataFrame(list(keyword_counts.items()), columns=['Keyword', 'Count'])\n",
        "\n",
        "# Plot histogram\n",
        "plt.figure(figsize=(10, 6))\n",
        "plt.bar(keyword_counts_df['Keyword'], keyword_counts_df['Count'], color='skyblue')\n",
        "plt.xlabel('Keywords')\n",
        "plt.ylabel('Number of Articles')\n",
        "plt.title('Number of Articles Related to Each Disaster Keyword')\n",
        "plt.xticks(rotation=45)\n",
        "plt.show()"
      ],
      "metadata": {
        "colab": {
          "base_uri": "https://localhost:8080/",
          "height": 609
        },
        "id": "03gn6foik1_l",
        "outputId": "0b5ca31e-69d7-4e94-bc79-dd678abca92f"
      },
      "execution_count": null,
      "outputs": [
        {
          "output_type": "display_data",
          "data": {
            "text/plain": [
              "<Figure size 1000x600 with 1 Axes>"
            ],
            "image/png": "[encoded data removed]"
          },
          "metadata": {}
        }
      ]
    },
    {
      "cell_type": "code",
      "source": [
        "# Count unique values in 'website_name' column\n",
        "website_counts = df['website_name'].value_counts()\n",
        "\n",
        "# Convert the website counts to a DataFrame for plotting\n",
        "website_counts_df = website_counts.reset_index()\n",
        "website_counts_df.columns = ['Website', 'Count']\n",
        "\n",
        "# Plot bar chart for website counts\n",
        "plt.figure(figsize=(12, 8))\n",
        "bars = plt.bar(website_counts_df['Website'], website_counts_df['Count'], color='lightgreen')\n",
        "plt.xlabel('Website')\n",
        "plt.ylabel('Number of Articles')\n",
        "plt.title('Number of Articles from Each Website')\n",
        "plt.xticks(rotation=90)\n",
        "\n",
        "# Add text annotations to show the number of articles for each bar\n",
        "for bar in bars:\n",
        "    height = bar.get_height()\n",
        "    plt.annotate(f'{height}',\n",
        "                 xy=(bar.get_x() + bar.get_width() / 2, height),\n",
        "                 xytext=(0, 3),  # 3 points vertical offset\n",
        "                 textcoords=\"offset points\",\n",
        "                 ha='center', va='bottom')\n",
        "\n",
        "plt.show()"
      ],
      "metadata": {
        "id": "Vkd_xIRxmLyX"
      },
      "execution_count": null,
      "outputs": []
    }
  ]
}